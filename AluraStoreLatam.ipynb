{
  "nbformat": 4,
  "nbformat_minor": 0,
  "metadata": {
    "colab": {
      "provenance": [],
      "include_colab_link": true
    },
    "kernelspec": {
      "name": "python3",
      "display_name": "Python 3"
    },
    "language_info": {
      "name": "python"
    }
  },
  "cells": [
    {
      "cell_type": "markdown",
      "metadata": {
        "id": "view-in-github",
        "colab_type": "text"
      },
      "source": [
        "<a href=\"https://colab.research.google.com/github/Mela0888/Challenge-Python-Alura-Store/blob/main/AluraStoreLatam.ipynb\" target=\"_parent\"><img src=\"https://colab.research.google.com/assets/colab-badge.svg\" alt=\"Open In Colab\"/></a>"
      ]
    },
    {
      "cell_type": "markdown",
      "source": [
        "### Importación de datos\n",
        "\n"
      ],
      "metadata": {
        "id": "RhEdWd9YUR6H"
      }
    },
    {
      "cell_type": "code",
      "execution_count": 4,
      "metadata": {
        "colab": {
          "base_uri": "https://localhost:8080/",
          "height": 362
        },
        "id": "T3EvaeQ_INIL",
        "outputId": "6ce0cf8e-97b0-4471-b664-d43d407159cf"
      },
      "outputs": [
        {
          "output_type": "execute_result",
          "data": {
            "text/plain": [
              "            Producto Categoría del Producto    Precio  Costo de envío  \\\n",
              "0  Asistente virtual           Electrónicos  164300.0          6900.0   \n",
              "1    Mesa de comedor                Muebles  192300.0          8400.0   \n",
              "2      Juego de mesa               Juguetes  209600.0         15900.0   \n",
              "3         Microondas      Electrodomésticos  757500.0         41000.0   \n",
              "4   Silla de oficina                Muebles  335200.0         20200.0   \n",
              "\n",
              "  Fecha de Compra         Vendedor Lugar de Compra  Calificación  \\\n",
              "0      16/01/2021      Pedro Gomez          Bogotá             4   \n",
              "1      18/05/2022  Beatriz Morales        Medellín             1   \n",
              "2      15/03/2021   Juan Fernandez       Cartagena             1   \n",
              "3      03/05/2022   Juan Fernandez            Cali             4   \n",
              "4      07/11/2020    Maria Alfonso        Medellín             5   \n",
              "\n",
              "       Método de pago  Cantidad de cuotas       lat       lon  \n",
              "0  Tarjeta de crédito                   8   4.60971 -74.08175  \n",
              "1  Tarjeta de crédito                   4   6.25184 -75.56359  \n",
              "2  Tarjeta de crédito                   1  10.39972 -75.51444  \n",
              "3               Nequi                   1   3.43722 -76.52250  \n",
              "4               Nequi                   1   6.25184 -75.56359  "
            ],
            "text/html": [
              "\n",
              "  <div id=\"df-324a3fc6-f96c-4e89-ae1d-9d6042542fd0\" class=\"colab-df-container\">\n",
              "    <div>\n",
              "<style scoped>\n",
              "    .dataframe tbody tr th:only-of-type {\n",
              "        vertical-align: middle;\n",
              "    }\n",
              "\n",
              "    .dataframe tbody tr th {\n",
              "        vertical-align: top;\n",
              "    }\n",
              "\n",
              "    .dataframe thead th {\n",
              "        text-align: right;\n",
              "    }\n",
              "</style>\n",
              "<table border=\"1\" class=\"dataframe\">\n",
              "  <thead>\n",
              "    <tr style=\"text-align: right;\">\n",
              "      <th></th>\n",
              "      <th>Producto</th>\n",
              "      <th>Categoría del Producto</th>\n",
              "      <th>Precio</th>\n",
              "      <th>Costo de envío</th>\n",
              "      <th>Fecha de Compra</th>\n",
              "      <th>Vendedor</th>\n",
              "      <th>Lugar de Compra</th>\n",
              "      <th>Calificación</th>\n",
              "      <th>Método de pago</th>\n",
              "      <th>Cantidad de cuotas</th>\n",
              "      <th>lat</th>\n",
              "      <th>lon</th>\n",
              "    </tr>\n",
              "  </thead>\n",
              "  <tbody>\n",
              "    <tr>\n",
              "      <th>0</th>\n",
              "      <td>Asistente virtual</td>\n",
              "      <td>Electrónicos</td>\n",
              "      <td>164300.0</td>\n",
              "      <td>6900.0</td>\n",
              "      <td>16/01/2021</td>\n",
              "      <td>Pedro Gomez</td>\n",
              "      <td>Bogotá</td>\n",
              "      <td>4</td>\n",
              "      <td>Tarjeta de crédito</td>\n",
              "      <td>8</td>\n",
              "      <td>4.60971</td>\n",
              "      <td>-74.08175</td>\n",
              "    </tr>\n",
              "    <tr>\n",
              "      <th>1</th>\n",
              "      <td>Mesa de comedor</td>\n",
              "      <td>Muebles</td>\n",
              "      <td>192300.0</td>\n",
              "      <td>8400.0</td>\n",
              "      <td>18/05/2022</td>\n",
              "      <td>Beatriz Morales</td>\n",
              "      <td>Medellín</td>\n",
              "      <td>1</td>\n",
              "      <td>Tarjeta de crédito</td>\n",
              "      <td>4</td>\n",
              "      <td>6.25184</td>\n",
              "      <td>-75.56359</td>\n",
              "    </tr>\n",
              "    <tr>\n",
              "      <th>2</th>\n",
              "      <td>Juego de mesa</td>\n",
              "      <td>Juguetes</td>\n",
              "      <td>209600.0</td>\n",
              "      <td>15900.0</td>\n",
              "      <td>15/03/2021</td>\n",
              "      <td>Juan Fernandez</td>\n",
              "      <td>Cartagena</td>\n",
              "      <td>1</td>\n",
              "      <td>Tarjeta de crédito</td>\n",
              "      <td>1</td>\n",
              "      <td>10.39972</td>\n",
              "      <td>-75.51444</td>\n",
              "    </tr>\n",
              "    <tr>\n",
              "      <th>3</th>\n",
              "      <td>Microondas</td>\n",
              "      <td>Electrodomésticos</td>\n",
              "      <td>757500.0</td>\n",
              "      <td>41000.0</td>\n",
              "      <td>03/05/2022</td>\n",
              "      <td>Juan Fernandez</td>\n",
              "      <td>Cali</td>\n",
              "      <td>4</td>\n",
              "      <td>Nequi</td>\n",
              "      <td>1</td>\n",
              "      <td>3.43722</td>\n",
              "      <td>-76.52250</td>\n",
              "    </tr>\n",
              "    <tr>\n",
              "      <th>4</th>\n",
              "      <td>Silla de oficina</td>\n",
              "      <td>Muebles</td>\n",
              "      <td>335200.0</td>\n",
              "      <td>20200.0</td>\n",
              "      <td>07/11/2020</td>\n",
              "      <td>Maria Alfonso</td>\n",
              "      <td>Medellín</td>\n",
              "      <td>5</td>\n",
              "      <td>Nequi</td>\n",
              "      <td>1</td>\n",
              "      <td>6.25184</td>\n",
              "      <td>-75.56359</td>\n",
              "    </tr>\n",
              "  </tbody>\n",
              "</table>\n",
              "</div>\n",
              "    <div class=\"colab-df-buttons\">\n",
              "\n",
              "  <div class=\"colab-df-container\">\n",
              "    <button class=\"colab-df-convert\" onclick=\"convertToInteractive('df-324a3fc6-f96c-4e89-ae1d-9d6042542fd0')\"\n",
              "            title=\"Convert this dataframe to an interactive table.\"\n",
              "            style=\"display:none;\">\n",
              "\n",
              "  <svg xmlns=\"http://www.w3.org/2000/svg\" height=\"24px\" viewBox=\"0 -960 960 960\">\n",
              "    <path d=\"M120-120v-720h720v720H120Zm60-500h600v-160H180v160Zm220 220h160v-160H400v160Zm0 220h160v-160H400v160ZM180-400h160v-160H180v160Zm440 0h160v-160H620v160ZM180-180h160v-160H180v160Zm440 0h160v-160H620v160Z\"/>\n",
              "  </svg>\n",
              "    </button>\n",
              "\n",
              "  <style>\n",
              "    .colab-df-container {\n",
              "      display:flex;\n",
              "      gap: 12px;\n",
              "    }\n",
              "\n",
              "    .colab-df-convert {\n",
              "      background-color: #E8F0FE;\n",
              "      border: none;\n",
              "      border-radius: 50%;\n",
              "      cursor: pointer;\n",
              "      display: none;\n",
              "      fill: #1967D2;\n",
              "      height: 32px;\n",
              "      padding: 0 0 0 0;\n",
              "      width: 32px;\n",
              "    }\n",
              "\n",
              "    .colab-df-convert:hover {\n",
              "      background-color: #E2EBFA;\n",
              "      box-shadow: 0px 1px 2px rgba(60, 64, 67, 0.3), 0px 1px 3px 1px rgba(60, 64, 67, 0.15);\n",
              "      fill: #174EA6;\n",
              "    }\n",
              "\n",
              "    .colab-df-buttons div {\n",
              "      margin-bottom: 4px;\n",
              "    }\n",
              "\n",
              "    [theme=dark] .colab-df-convert {\n",
              "      background-color: #3B4455;\n",
              "      fill: #D2E3FC;\n",
              "    }\n",
              "\n",
              "    [theme=dark] .colab-df-convert:hover {\n",
              "      background-color: #434B5C;\n",
              "      box-shadow: 0px 1px 3px 1px rgba(0, 0, 0, 0.15);\n",
              "      filter: drop-shadow(0px 1px 2px rgba(0, 0, 0, 0.3));\n",
              "      fill: #FFFFFF;\n",
              "    }\n",
              "  </style>\n",
              "\n",
              "    <script>\n",
              "      const buttonEl =\n",
              "        document.querySelector('#df-324a3fc6-f96c-4e89-ae1d-9d6042542fd0 button.colab-df-convert');\n",
              "      buttonEl.style.display =\n",
              "        google.colab.kernel.accessAllowed ? 'block' : 'none';\n",
              "\n",
              "      async function convertToInteractive(key) {\n",
              "        const element = document.querySelector('#df-324a3fc6-f96c-4e89-ae1d-9d6042542fd0');\n",
              "        const dataTable =\n",
              "          await google.colab.kernel.invokeFunction('convertToInteractive',\n",
              "                                                    [key], {});\n",
              "        if (!dataTable) return;\n",
              "\n",
              "        const docLinkHtml = 'Like what you see? Visit the ' +\n",
              "          '<a target=\"_blank\" href=https://colab.research.google.com/notebooks/data_table.ipynb>data table notebook</a>'\n",
              "          + ' to learn more about interactive tables.';\n",
              "        element.innerHTML = '';\n",
              "        dataTable['output_type'] = 'display_data';\n",
              "        await google.colab.output.renderOutput(dataTable, element);\n",
              "        const docLink = document.createElement('div');\n",
              "        docLink.innerHTML = docLinkHtml;\n",
              "        element.appendChild(docLink);\n",
              "      }\n",
              "    </script>\n",
              "  </div>\n",
              "\n",
              "\n",
              "    <div id=\"df-992f9f39-85f3-4445-a8c0-80e1e9e0c5f1\">\n",
              "      <button class=\"colab-df-quickchart\" onclick=\"quickchart('df-992f9f39-85f3-4445-a8c0-80e1e9e0c5f1')\"\n",
              "                title=\"Suggest charts\"\n",
              "                style=\"display:none;\">\n",
              "\n",
              "<svg xmlns=\"http://www.w3.org/2000/svg\" height=\"24px\"viewBox=\"0 0 24 24\"\n",
              "     width=\"24px\">\n",
              "    <g>\n",
              "        <path d=\"M19 3H5c-1.1 0-2 .9-2 2v14c0 1.1.9 2 2 2h14c1.1 0 2-.9 2-2V5c0-1.1-.9-2-2-2zM9 17H7v-7h2v7zm4 0h-2V7h2v10zm4 0h-2v-4h2v4z\"/>\n",
              "    </g>\n",
              "</svg>\n",
              "      </button>\n",
              "\n",
              "<style>\n",
              "  .colab-df-quickchart {\n",
              "      --bg-color: #E8F0FE;\n",
              "      --fill-color: #1967D2;\n",
              "      --hover-bg-color: #E2EBFA;\n",
              "      --hover-fill-color: #174EA6;\n",
              "      --disabled-fill-color: #AAA;\n",
              "      --disabled-bg-color: #DDD;\n",
              "  }\n",
              "\n",
              "  [theme=dark] .colab-df-quickchart {\n",
              "      --bg-color: #3B4455;\n",
              "      --fill-color: #D2E3FC;\n",
              "      --hover-bg-color: #434B5C;\n",
              "      --hover-fill-color: #FFFFFF;\n",
              "      --disabled-bg-color: #3B4455;\n",
              "      --disabled-fill-color: #666;\n",
              "  }\n",
              "\n",
              "  .colab-df-quickchart {\n",
              "    background-color: var(--bg-color);\n",
              "    border: none;\n",
              "    border-radius: 50%;\n",
              "    cursor: pointer;\n",
              "    display: none;\n",
              "    fill: var(--fill-color);\n",
              "    height: 32px;\n",
              "    padding: 0;\n",
              "    width: 32px;\n",
              "  }\n",
              "\n",
              "  .colab-df-quickchart:hover {\n",
              "    background-color: var(--hover-bg-color);\n",
              "    box-shadow: 0 1px 2px rgba(60, 64, 67, 0.3), 0 1px 3px 1px rgba(60, 64, 67, 0.15);\n",
              "    fill: var(--button-hover-fill-color);\n",
              "  }\n",
              "\n",
              "  .colab-df-quickchart-complete:disabled,\n",
              "  .colab-df-quickchart-complete:disabled:hover {\n",
              "    background-color: var(--disabled-bg-color);\n",
              "    fill: var(--disabled-fill-color);\n",
              "    box-shadow: none;\n",
              "  }\n",
              "\n",
              "  .colab-df-spinner {\n",
              "    border: 2px solid var(--fill-color);\n",
              "    border-color: transparent;\n",
              "    border-bottom-color: var(--fill-color);\n",
              "    animation:\n",
              "      spin 1s steps(1) infinite;\n",
              "  }\n",
              "\n",
              "  @keyframes spin {\n",
              "    0% {\n",
              "      border-color: transparent;\n",
              "      border-bottom-color: var(--fill-color);\n",
              "      border-left-color: var(--fill-color);\n",
              "    }\n",
              "    20% {\n",
              "      border-color: transparent;\n",
              "      border-left-color: var(--fill-color);\n",
              "      border-top-color: var(--fill-color);\n",
              "    }\n",
              "    30% {\n",
              "      border-color: transparent;\n",
              "      border-left-color: var(--fill-color);\n",
              "      border-top-color: var(--fill-color);\n",
              "      border-right-color: var(--fill-color);\n",
              "    }\n",
              "    40% {\n",
              "      border-color: transparent;\n",
              "      border-right-color: var(--fill-color);\n",
              "      border-top-color: var(--fill-color);\n",
              "    }\n",
              "    60% {\n",
              "      border-color: transparent;\n",
              "      border-right-color: var(--fill-color);\n",
              "    }\n",
              "    80% {\n",
              "      border-color: transparent;\n",
              "      border-right-color: var(--fill-color);\n",
              "      border-bottom-color: var(--fill-color);\n",
              "    }\n",
              "    90% {\n",
              "      border-color: transparent;\n",
              "      border-bottom-color: var(--fill-color);\n",
              "    }\n",
              "  }\n",
              "</style>\n",
              "\n",
              "      <script>\n",
              "        async function quickchart(key) {\n",
              "          const quickchartButtonEl =\n",
              "            document.querySelector('#' + key + ' button');\n",
              "          quickchartButtonEl.disabled = true;  // To prevent multiple clicks.\n",
              "          quickchartButtonEl.classList.add('colab-df-spinner');\n",
              "          try {\n",
              "            const charts = await google.colab.kernel.invokeFunction(\n",
              "                'suggestCharts', [key], {});\n",
              "          } catch (error) {\n",
              "            console.error('Error during call to suggestCharts:', error);\n",
              "          }\n",
              "          quickchartButtonEl.classList.remove('colab-df-spinner');\n",
              "          quickchartButtonEl.classList.add('colab-df-quickchart-complete');\n",
              "        }\n",
              "        (() => {\n",
              "          let quickchartButtonEl =\n",
              "            document.querySelector('#df-992f9f39-85f3-4445-a8c0-80e1e9e0c5f1 button');\n",
              "          quickchartButtonEl.style.display =\n",
              "            google.colab.kernel.accessAllowed ? 'block' : 'none';\n",
              "        })();\n",
              "      </script>\n",
              "    </div>\n",
              "\n",
              "    </div>\n",
              "  </div>\n"
            ],
            "application/vnd.google.colaboratory.intrinsic+json": {
              "type": "dataframe",
              "variable_name": "tienda",
              "summary": "{\n  \"name\": \"tienda\",\n  \"rows\": 2359,\n  \"fields\": [\n    {\n      \"column\": \"Producto\",\n      \"properties\": {\n        \"dtype\": \"category\",\n        \"num_unique_values\": 51,\n        \"samples\": [\n          \"Guitarra ac\\u00fastica\",\n          \"Bal\\u00f3n de baloncesto\",\n          \"Smartwatch\"\n        ],\n        \"semantic_type\": \"\",\n        \"description\": \"\"\n      }\n    },\n    {\n      \"column\": \"Categor\\u00eda del Producto\",\n      \"properties\": {\n        \"dtype\": \"category\",\n        \"num_unique_values\": 8,\n        \"samples\": [\n          \"Muebles\",\n          \"Deportes y diversi\\u00f3n\",\n          \"Electr\\u00f3nicos\"\n        ],\n        \"semantic_type\": \"\",\n        \"description\": \"\"\n      }\n    },\n    {\n      \"column\": \"Precio\",\n      \"properties\": {\n        \"dtype\": \"number\",\n        \"std\": 614686.7653873172,\n        \"min\": 7600.0,\n        \"max\": 2977000.0,\n        \"num_unique_values\": 1937,\n        \"samples\": [\n          2499400.0,\n          14800.0,\n          80500.0\n        ],\n        \"semantic_type\": \"\",\n        \"description\": \"\"\n      }\n    },\n    {\n      \"column\": \"Costo de env\\u00edo\",\n      \"properties\": {\n        \"dtype\": \"number\",\n        \"std\": 32860.0017825605,\n        \"min\": 0.0,\n        \"max\": 160800.0,\n        \"num_unique_values\": 753,\n        \"samples\": [\n          117800.0,\n          54700.0,\n          45600.0\n        ],\n        \"semantic_type\": \"\",\n        \"description\": \"\"\n      }\n    },\n    {\n      \"column\": \"Fecha de Compra\",\n      \"properties\": {\n        \"dtype\": \"object\",\n        \"num_unique_values\": 1018,\n        \"samples\": [\n          \"15/09/2022\",\n          \"03/06/2020\",\n          \"06/11/2021\"\n        ],\n        \"semantic_type\": \"\",\n        \"description\": \"\"\n      }\n    },\n    {\n      \"column\": \"Vendedor\",\n      \"properties\": {\n        \"dtype\": \"category\",\n        \"num_unique_values\": 14,\n        \"samples\": [\n          \"Juliana Costa\",\n          \"Mariana Herrera\",\n          \"Pedro Gomez\"\n        ],\n        \"semantic_type\": \"\",\n        \"description\": \"\"\n      }\n    },\n    {\n      \"column\": \"Lugar de Compra\",\n      \"properties\": {\n        \"dtype\": \"category\",\n        \"num_unique_values\": 19,\n        \"samples\": [\n          \"Bogot\\u00e1\",\n          \"Pereira\",\n          \"Neiva\"\n        ],\n        \"semantic_type\": \"\",\n        \"description\": \"\"\n      }\n    },\n    {\n      \"column\": \"Calificaci\\u00f3n\",\n      \"properties\": {\n        \"dtype\": \"number\",\n        \"std\": 1,\n        \"min\": 1,\n        \"max\": 5,\n        \"num_unique_values\": 5,\n        \"samples\": [\n          1,\n          2,\n          5\n        ],\n        \"semantic_type\": \"\",\n        \"description\": \"\"\n      }\n    },\n    {\n      \"column\": \"M\\u00e9todo de pago\",\n      \"properties\": {\n        \"dtype\": \"category\",\n        \"num_unique_values\": 4,\n        \"samples\": [\n          \"Nequi\",\n          \"Tarjeta de d\\u00e9bito\",\n          \"Tarjeta de cr\\u00e9dito\"\n        ],\n        \"semantic_type\": \"\",\n        \"description\": \"\"\n      }\n    },\n    {\n      \"column\": \"Cantidad de cuotas\",\n      \"properties\": {\n        \"dtype\": \"number\",\n        \"std\": 2,\n        \"min\": 1,\n        \"max\": 24,\n        \"num_unique_values\": 15,\n        \"samples\": [\n          7,\n          14,\n          8\n        ],\n        \"semantic_type\": \"\",\n        \"description\": \"\"\n      }\n    },\n    {\n      \"column\": \"lat\",\n      \"properties\": {\n        \"dtype\": \"number\",\n        \"std\": 2.2874452492678627,\n        \"min\": -4.21528,\n        \"max\": 11.54444,\n        \"num_unique_values\": 19,\n        \"samples\": [\n          4.60971,\n          4.81333,\n          2.9273\n        ],\n        \"semantic_type\": \"\",\n        \"description\": \"\"\n      }\n    },\n    {\n      \"column\": \"lon\",\n      \"properties\": {\n        \"dtype\": \"number\",\n        \"std\": 1.2178272727088486,\n        \"min\": -77.28111,\n        \"max\": -67.9239,\n        \"num_unique_values\": 19,\n        \"samples\": [\n          -74.08175,\n          -75.69611,\n          -75.28189\n        ],\n        \"semantic_type\": \"\",\n        \"description\": \"\"\n      }\n    }\n  ]\n}"
            }
          },
          "metadata": {},
          "execution_count": 4
        }
      ],
      "source": [
        "import pandas as pd\n",
        "\n",
        "url = \"https://raw.githubusercontent.com/alura-es-cursos/challenge1-data-science-latam/refs/heads/main/base-de-datos-challenge1-latam/tienda_1%20.csv\"\n",
        "url2 = \"https://raw.githubusercontent.com/alura-es-cursos/challenge1-data-science-latam/refs/heads/main/base-de-datos-challenge1-latam/tienda_2.csv\"\n",
        "url3 = \"https://raw.githubusercontent.com/alura-es-cursos/challenge1-data-science-latam/refs/heads/main/base-de-datos-challenge1-latam/tienda_3.csv\"\n",
        "url4 = \"https://raw.githubusercontent.com/alura-es-cursos/challenge1-data-science-latam/refs/heads/main/base-de-datos-challenge1-latam/tienda_4.csv\"\n",
        "\n",
        "tienda = pd.read_csv(url)\n",
        "tienda2 = pd.read_csv(url2)\n",
        "tienda3 = pd.read_csv(url3)\n",
        "tienda4 = pd.read_csv(url4)\n",
        "\n",
        "tienda.head()"
      ]
    },
    {
      "cell_type": "code",
      "source": [
        "import matplotlib.pyplot as plt\n",
        "import matplotlib.colors as mcolors"
      ],
      "metadata": {
        "id": "6t-n0sE4lHV_"
      },
      "execution_count": 5,
      "outputs": []
    },
    {
      "cell_type": "markdown",
      "source": [
        "#1. Análisis de facturación\n",
        "\n"
      ],
      "metadata": {
        "id": "X62IW3KFUIYm"
      }
    },
    {
      "cell_type": "code",
      "source": [
        "ingreso_total = tienda[\"Precio\"].sum()\n",
        "ingreso_total2 = tienda2[\"Precio\"].sum()\n",
        "ingreso_total3 = tienda3[\"Precio\"].sum()\n",
        "ingreso_total4 = tienda4[\"Precio\"].sum()\n",
        "print(f\"El ingreso total de la tienda 1 es de $ {ingreso_total:,.2f}\")\n",
        "print(f\"El ingreso total de la tienda 2 es de $ {ingreso_total2:,.2f}\")\n",
        "print(f\"El ingreso total de la tienda 3 es de $ {ingreso_total3:,.2f}\")\n",
        "print(f\"El ingreso total de la tienda 4 es de $ {ingreso_total4:,.2f}\")"
      ],
      "metadata": {
        "id": "xykobSftV64I",
        "colab": {
          "base_uri": "https://localhost:8080/"
        },
        "outputId": "c563c16d-537c-49e2-8354-efc7b622810f"
      },
      "execution_count": 6,
      "outputs": [
        {
          "output_type": "stream",
          "name": "stdout",
          "text": [
            "El ingreso total de la tienda 1 es de $ 1,150,880,400.00\n",
            "El ingreso total de la tienda 2 es de $ 1,116,343,500.00\n",
            "El ingreso total de la tienda 3 es de $ 1,098,019,600.00\n",
            "El ingreso total de la tienda 4 es de $ 1,038,375,700.00\n"
          ]
        }
      ]
    },
    {
      "cell_type": "markdown",
      "source": [
        "# 2. Ventas por categoría"
      ],
      "metadata": {
        "id": "2V_vcAPzWZmR"
      }
    },
    {
      "cell_type": "code",
      "source": [
        "categoria = {}\n",
        "\n",
        "for nombre, df in {\"Tienda 1\": tienda, \"Tienda 2\": tienda2, \"Tienda 3\": tienda3, \"Tienda 4\": tienda4}.items():\n",
        "\n",
        "  conteo = df[\"Categoría del Producto\"].value_counts()\n",
        "\n",
        "  categoria[nombre] = conteo\n",
        "\n",
        "ventas_tienda1 = tienda[\"Categoría del Producto\"].value_counts()\n",
        "ventas_tienda2 = tienda2[\"Categoría del Producto\"].value_counts()\n",
        "ventas_tienda3 = tienda3[\"Categoría del Producto\"].value_counts()\n",
        "ventas_tienda4 = tienda4[\"Categoría del Producto\"].value_counts()\n",
        "\n",
        "ventas_categoria = pd.DataFrame({\n",
        "    \"Tienda 1\": ventas_tienda1,\n",
        "    \"Tienda 2\": ventas_tienda2,\n",
        "    \"Tiendas 3\": ventas_tienda3,\n",
        "    \"Tiendas 4\": ventas_tienda4\n",
        "}).fillna(0).astype(int)\n",
        "\n",
        "ventas_categoria"
      ],
      "metadata": {
        "colab": {
          "base_uri": "https://localhost:8080/",
          "height": 331
        },
        "id": "WjJkbov-dkAd",
        "outputId": "657cc7a1-6edd-48e2-eabe-a40e0ea94f6e"
      },
      "execution_count": 8,
      "outputs": [
        {
          "output_type": "execute_result",
          "data": {
            "text/plain": [
              "                         Tienda 1  Tienda 2  Tiendas 3  Tiendas 4\n",
              "Categoría del Producto                                           \n",
              "Artículos para el hogar       171       181        177        201\n",
              "Deportes y diversión          284       275        277        277\n",
              "Electrodomésticos             312       305        278        254\n",
              "Electrónicos                  448       422        451        451\n",
              "Instrumentos musicales        182       224        177        170\n",
              "Juguetes                      324       313        315        338\n",
              "Libros                        173       197        185        187\n",
              "Muebles                       465       442        499        480"
            ],
            "text/html": [
              "\n",
              "  <div id=\"df-68fb7ef1-12f4-4450-9027-fac89e5c9ae9\" class=\"colab-df-container\">\n",
              "    <div>\n",
              "<style scoped>\n",
              "    .dataframe tbody tr th:only-of-type {\n",
              "        vertical-align: middle;\n",
              "    }\n",
              "\n",
              "    .dataframe tbody tr th {\n",
              "        vertical-align: top;\n",
              "    }\n",
              "\n",
              "    .dataframe thead th {\n",
              "        text-align: right;\n",
              "    }\n",
              "</style>\n",
              "<table border=\"1\" class=\"dataframe\">\n",
              "  <thead>\n",
              "    <tr style=\"text-align: right;\">\n",
              "      <th></th>\n",
              "      <th>Tienda 1</th>\n",
              "      <th>Tienda 2</th>\n",
              "      <th>Tiendas 3</th>\n",
              "      <th>Tiendas 4</th>\n",
              "    </tr>\n",
              "    <tr>\n",
              "      <th>Categoría del Producto</th>\n",
              "      <th></th>\n",
              "      <th></th>\n",
              "      <th></th>\n",
              "      <th></th>\n",
              "    </tr>\n",
              "  </thead>\n",
              "  <tbody>\n",
              "    <tr>\n",
              "      <th>Artículos para el hogar</th>\n",
              "      <td>171</td>\n",
              "      <td>181</td>\n",
              "      <td>177</td>\n",
              "      <td>201</td>\n",
              "    </tr>\n",
              "    <tr>\n",
              "      <th>Deportes y diversión</th>\n",
              "      <td>284</td>\n",
              "      <td>275</td>\n",
              "      <td>277</td>\n",
              "      <td>277</td>\n",
              "    </tr>\n",
              "    <tr>\n",
              "      <th>Electrodomésticos</th>\n",
              "      <td>312</td>\n",
              "      <td>305</td>\n",
              "      <td>278</td>\n",
              "      <td>254</td>\n",
              "    </tr>\n",
              "    <tr>\n",
              "      <th>Electrónicos</th>\n",
              "      <td>448</td>\n",
              "      <td>422</td>\n",
              "      <td>451</td>\n",
              "      <td>451</td>\n",
              "    </tr>\n",
              "    <tr>\n",
              "      <th>Instrumentos musicales</th>\n",
              "      <td>182</td>\n",
              "      <td>224</td>\n",
              "      <td>177</td>\n",
              "      <td>170</td>\n",
              "    </tr>\n",
              "    <tr>\n",
              "      <th>Juguetes</th>\n",
              "      <td>324</td>\n",
              "      <td>313</td>\n",
              "      <td>315</td>\n",
              "      <td>338</td>\n",
              "    </tr>\n",
              "    <tr>\n",
              "      <th>Libros</th>\n",
              "      <td>173</td>\n",
              "      <td>197</td>\n",
              "      <td>185</td>\n",
              "      <td>187</td>\n",
              "    </tr>\n",
              "    <tr>\n",
              "      <th>Muebles</th>\n",
              "      <td>465</td>\n",
              "      <td>442</td>\n",
              "      <td>499</td>\n",
              "      <td>480</td>\n",
              "    </tr>\n",
              "  </tbody>\n",
              "</table>\n",
              "</div>\n",
              "    <div class=\"colab-df-buttons\">\n",
              "\n",
              "  <div class=\"colab-df-container\">\n",
              "    <button class=\"colab-df-convert\" onclick=\"convertToInteractive('df-68fb7ef1-12f4-4450-9027-fac89e5c9ae9')\"\n",
              "            title=\"Convert this dataframe to an interactive table.\"\n",
              "            style=\"display:none;\">\n",
              "\n",
              "  <svg xmlns=\"http://www.w3.org/2000/svg\" height=\"24px\" viewBox=\"0 -960 960 960\">\n",
              "    <path d=\"M120-120v-720h720v720H120Zm60-500h600v-160H180v160Zm220 220h160v-160H400v160Zm0 220h160v-160H400v160ZM180-400h160v-160H180v160Zm440 0h160v-160H620v160ZM180-180h160v-160H180v160Zm440 0h160v-160H620v160Z\"/>\n",
              "  </svg>\n",
              "    </button>\n",
              "\n",
              "  <style>\n",
              "    .colab-df-container {\n",
              "      display:flex;\n",
              "      gap: 12px;\n",
              "    }\n",
              "\n",
              "    .colab-df-convert {\n",
              "      background-color: #E8F0FE;\n",
              "      border: none;\n",
              "      border-radius: 50%;\n",
              "      cursor: pointer;\n",
              "      display: none;\n",
              "      fill: #1967D2;\n",
              "      height: 32px;\n",
              "      padding: 0 0 0 0;\n",
              "      width: 32px;\n",
              "    }\n",
              "\n",
              "    .colab-df-convert:hover {\n",
              "      background-color: #E2EBFA;\n",
              "      box-shadow: 0px 1px 2px rgba(60, 64, 67, 0.3), 0px 1px 3px 1px rgba(60, 64, 67, 0.15);\n",
              "      fill: #174EA6;\n",
              "    }\n",
              "\n",
              "    .colab-df-buttons div {\n",
              "      margin-bottom: 4px;\n",
              "    }\n",
              "\n",
              "    [theme=dark] .colab-df-convert {\n",
              "      background-color: #3B4455;\n",
              "      fill: #D2E3FC;\n",
              "    }\n",
              "\n",
              "    [theme=dark] .colab-df-convert:hover {\n",
              "      background-color: #434B5C;\n",
              "      box-shadow: 0px 1px 3px 1px rgba(0, 0, 0, 0.15);\n",
              "      filter: drop-shadow(0px 1px 2px rgba(0, 0, 0, 0.3));\n",
              "      fill: #FFFFFF;\n",
              "    }\n",
              "  </style>\n",
              "\n",
              "    <script>\n",
              "      const buttonEl =\n",
              "        document.querySelector('#df-68fb7ef1-12f4-4450-9027-fac89e5c9ae9 button.colab-df-convert');\n",
              "      buttonEl.style.display =\n",
              "        google.colab.kernel.accessAllowed ? 'block' : 'none';\n",
              "\n",
              "      async function convertToInteractive(key) {\n",
              "        const element = document.querySelector('#df-68fb7ef1-12f4-4450-9027-fac89e5c9ae9');\n",
              "        const dataTable =\n",
              "          await google.colab.kernel.invokeFunction('convertToInteractive',\n",
              "                                                    [key], {});\n",
              "        if (!dataTable) return;\n",
              "\n",
              "        const docLinkHtml = 'Like what you see? Visit the ' +\n",
              "          '<a target=\"_blank\" href=https://colab.research.google.com/notebooks/data_table.ipynb>data table notebook</a>'\n",
              "          + ' to learn more about interactive tables.';\n",
              "        element.innerHTML = '';\n",
              "        dataTable['output_type'] = 'display_data';\n",
              "        await google.colab.output.renderOutput(dataTable, element);\n",
              "        const docLink = document.createElement('div');\n",
              "        docLink.innerHTML = docLinkHtml;\n",
              "        element.appendChild(docLink);\n",
              "      }\n",
              "    </script>\n",
              "  </div>\n",
              "\n",
              "\n",
              "    <div id=\"df-7283b301-9b96-4e12-a98b-4a91524d526b\">\n",
              "      <button class=\"colab-df-quickchart\" onclick=\"quickchart('df-7283b301-9b96-4e12-a98b-4a91524d526b')\"\n",
              "                title=\"Suggest charts\"\n",
              "                style=\"display:none;\">\n",
              "\n",
              "<svg xmlns=\"http://www.w3.org/2000/svg\" height=\"24px\"viewBox=\"0 0 24 24\"\n",
              "     width=\"24px\">\n",
              "    <g>\n",
              "        <path d=\"M19 3H5c-1.1 0-2 .9-2 2v14c0 1.1.9 2 2 2h14c1.1 0 2-.9 2-2V5c0-1.1-.9-2-2-2zM9 17H7v-7h2v7zm4 0h-2V7h2v10zm4 0h-2v-4h2v4z\"/>\n",
              "    </g>\n",
              "</svg>\n",
              "      </button>\n",
              "\n",
              "<style>\n",
              "  .colab-df-quickchart {\n",
              "      --bg-color: #E8F0FE;\n",
              "      --fill-color: #1967D2;\n",
              "      --hover-bg-color: #E2EBFA;\n",
              "      --hover-fill-color: #174EA6;\n",
              "      --disabled-fill-color: #AAA;\n",
              "      --disabled-bg-color: #DDD;\n",
              "  }\n",
              "\n",
              "  [theme=dark] .colab-df-quickchart {\n",
              "      --bg-color: #3B4455;\n",
              "      --fill-color: #D2E3FC;\n",
              "      --hover-bg-color: #434B5C;\n",
              "      --hover-fill-color: #FFFFFF;\n",
              "      --disabled-bg-color: #3B4455;\n",
              "      --disabled-fill-color: #666;\n",
              "  }\n",
              "\n",
              "  .colab-df-quickchart {\n",
              "    background-color: var(--bg-color);\n",
              "    border: none;\n",
              "    border-radius: 50%;\n",
              "    cursor: pointer;\n",
              "    display: none;\n",
              "    fill: var(--fill-color);\n",
              "    height: 32px;\n",
              "    padding: 0;\n",
              "    width: 32px;\n",
              "  }\n",
              "\n",
              "  .colab-df-quickchart:hover {\n",
              "    background-color: var(--hover-bg-color);\n",
              "    box-shadow: 0 1px 2px rgba(60, 64, 67, 0.3), 0 1px 3px 1px rgba(60, 64, 67, 0.15);\n",
              "    fill: var(--button-hover-fill-color);\n",
              "  }\n",
              "\n",
              "  .colab-df-quickchart-complete:disabled,\n",
              "  .colab-df-quickchart-complete:disabled:hover {\n",
              "    background-color: var(--disabled-bg-color);\n",
              "    fill: var(--disabled-fill-color);\n",
              "    box-shadow: none;\n",
              "  }\n",
              "\n",
              "  .colab-df-spinner {\n",
              "    border: 2px solid var(--fill-color);\n",
              "    border-color: transparent;\n",
              "    border-bottom-color: var(--fill-color);\n",
              "    animation:\n",
              "      spin 1s steps(1) infinite;\n",
              "  }\n",
              "\n",
              "  @keyframes spin {\n",
              "    0% {\n",
              "      border-color: transparent;\n",
              "      border-bottom-color: var(--fill-color);\n",
              "      border-left-color: var(--fill-color);\n",
              "    }\n",
              "    20% {\n",
              "      border-color: transparent;\n",
              "      border-left-color: var(--fill-color);\n",
              "      border-top-color: var(--fill-color);\n",
              "    }\n",
              "    30% {\n",
              "      border-color: transparent;\n",
              "      border-left-color: var(--fill-color);\n",
              "      border-top-color: var(--fill-color);\n",
              "      border-right-color: var(--fill-color);\n",
              "    }\n",
              "    40% {\n",
              "      border-color: transparent;\n",
              "      border-right-color: var(--fill-color);\n",
              "      border-top-color: var(--fill-color);\n",
              "    }\n",
              "    60% {\n",
              "      border-color: transparent;\n",
              "      border-right-color: var(--fill-color);\n",
              "    }\n",
              "    80% {\n",
              "      border-color: transparent;\n",
              "      border-right-color: var(--fill-color);\n",
              "      border-bottom-color: var(--fill-color);\n",
              "    }\n",
              "    90% {\n",
              "      border-color: transparent;\n",
              "      border-bottom-color: var(--fill-color);\n",
              "    }\n",
              "  }\n",
              "</style>\n",
              "\n",
              "      <script>\n",
              "        async function quickchart(key) {\n",
              "          const quickchartButtonEl =\n",
              "            document.querySelector('#' + key + ' button');\n",
              "          quickchartButtonEl.disabled = true;  // To prevent multiple clicks.\n",
              "          quickchartButtonEl.classList.add('colab-df-spinner');\n",
              "          try {\n",
              "            const charts = await google.colab.kernel.invokeFunction(\n",
              "                'suggestCharts', [key], {});\n",
              "          } catch (error) {\n",
              "            console.error('Error during call to suggestCharts:', error);\n",
              "          }\n",
              "          quickchartButtonEl.classList.remove('colab-df-spinner');\n",
              "          quickchartButtonEl.classList.add('colab-df-quickchart-complete');\n",
              "        }\n",
              "        (() => {\n",
              "          let quickchartButtonEl =\n",
              "            document.querySelector('#df-7283b301-9b96-4e12-a98b-4a91524d526b button');\n",
              "          quickchartButtonEl.style.display =\n",
              "            google.colab.kernel.accessAllowed ? 'block' : 'none';\n",
              "        })();\n",
              "      </script>\n",
              "    </div>\n",
              "\n",
              "  <div id=\"id_fd912d6d-0e12-4c6c-a7dc-6ab6add010e9\">\n",
              "    <style>\n",
              "      .colab-df-generate {\n",
              "        background-color: #E8F0FE;\n",
              "        border: none;\n",
              "        border-radius: 50%;\n",
              "        cursor: pointer;\n",
              "        display: none;\n",
              "        fill: #1967D2;\n",
              "        height: 32px;\n",
              "        padding: 0 0 0 0;\n",
              "        width: 32px;\n",
              "      }\n",
              "\n",
              "      .colab-df-generate:hover {\n",
              "        background-color: #E2EBFA;\n",
              "        box-shadow: 0px 1px 2px rgba(60, 64, 67, 0.3), 0px 1px 3px 1px rgba(60, 64, 67, 0.15);\n",
              "        fill: #174EA6;\n",
              "      }\n",
              "\n",
              "      [theme=dark] .colab-df-generate {\n",
              "        background-color: #3B4455;\n",
              "        fill: #D2E3FC;\n",
              "      }\n",
              "\n",
              "      [theme=dark] .colab-df-generate:hover {\n",
              "        background-color: #434B5C;\n",
              "        box-shadow: 0px 1px 3px 1px rgba(0, 0, 0, 0.15);\n",
              "        filter: drop-shadow(0px 1px 2px rgba(0, 0, 0, 0.3));\n",
              "        fill: #FFFFFF;\n",
              "      }\n",
              "    </style>\n",
              "    <button class=\"colab-df-generate\" onclick=\"generateWithVariable('ventas_categoria')\"\n",
              "            title=\"Generate code using this dataframe.\"\n",
              "            style=\"display:none;\">\n",
              "\n",
              "  <svg xmlns=\"http://www.w3.org/2000/svg\" height=\"24px\"viewBox=\"0 0 24 24\"\n",
              "       width=\"24px\">\n",
              "    <path d=\"M7,19H8.4L18.45,9,17,7.55,7,17.6ZM5,21V16.75L18.45,3.32a2,2,0,0,1,2.83,0l1.4,1.43a1.91,1.91,0,0,1,.58,1.4,1.91,1.91,0,0,1-.58,1.4L9.25,21ZM18.45,9,17,7.55Zm-12,3A5.31,5.31,0,0,0,4.9,8.1,5.31,5.31,0,0,0,1,6.5,5.31,5.31,0,0,0,4.9,4.9,5.31,5.31,0,0,0,6.5,1,5.31,5.31,0,0,0,8.1,4.9,5.31,5.31,0,0,0,12,6.5,5.46,5.46,0,0,0,6.5,12Z\"/>\n",
              "  </svg>\n",
              "    </button>\n",
              "    <script>\n",
              "      (() => {\n",
              "      const buttonEl =\n",
              "        document.querySelector('#id_fd912d6d-0e12-4c6c-a7dc-6ab6add010e9 button.colab-df-generate');\n",
              "      buttonEl.style.display =\n",
              "        google.colab.kernel.accessAllowed ? 'block' : 'none';\n",
              "\n",
              "      buttonEl.onclick = () => {\n",
              "        google.colab.notebook.generateWithVariable('ventas_categoria');\n",
              "      }\n",
              "      })();\n",
              "    </script>\n",
              "  </div>\n",
              "\n",
              "    </div>\n",
              "  </div>\n"
            ],
            "application/vnd.google.colaboratory.intrinsic+json": {
              "type": "dataframe",
              "variable_name": "ventas_categoria",
              "summary": "{\n  \"name\": \"ventas_categoria\",\n  \"rows\": 8,\n  \"fields\": [\n    {\n      \"column\": \"Categor\\u00eda del Producto\",\n      \"properties\": {\n        \"dtype\": \"string\",\n        \"num_unique_values\": 8,\n        \"samples\": [\n          \"Deportes y diversi\\u00f3n\",\n          \"Juguetes\",\n          \"Art\\u00edculos para el hogar\"\n        ],\n        \"semantic_type\": \"\",\n        \"description\": \"\"\n      }\n    },\n    {\n      \"column\": \"Tienda 1\",\n      \"properties\": {\n        \"dtype\": \"number\",\n        \"std\": 117,\n        \"min\": 171,\n        \"max\": 465,\n        \"num_unique_values\": 8,\n        \"samples\": [\n          284,\n          324,\n          171\n        ],\n        \"semantic_type\": \"\",\n        \"description\": \"\"\n      }\n    },\n    {\n      \"column\": \"Tienda 2\",\n      \"properties\": {\n        \"dtype\": \"number\",\n        \"std\": 97,\n        \"min\": 181,\n        \"max\": 442,\n        \"num_unique_values\": 8,\n        \"samples\": [\n          275,\n          313,\n          181\n        ],\n        \"semantic_type\": \"\",\n        \"description\": \"\"\n      }\n    },\n    {\n      \"column\": \"Tiendas 3\",\n      \"properties\": {\n        \"dtype\": \"number\",\n        \"std\": 123,\n        \"min\": 177,\n        \"max\": 499,\n        \"num_unique_values\": 7,\n        \"samples\": [\n          177,\n          277,\n          185\n        ],\n        \"semantic_type\": \"\",\n        \"description\": \"\"\n      }\n    },\n    {\n      \"column\": \"Tiendas 4\",\n      \"properties\": {\n        \"dtype\": \"number\",\n        \"std\": 118,\n        \"min\": 170,\n        \"max\": 480,\n        \"num_unique_values\": 8,\n        \"samples\": [\n          277,\n          338,\n          201\n        ],\n        \"semantic_type\": \"\",\n        \"description\": \"\"\n      }\n    }\n  ]\n}"
            }
          },
          "metadata": {},
          "execution_count": 8
        }
      ]
    },
    {
      "cell_type": "code",
      "source": [
        "categoria_mayor = max(tienda[\"Categoría del Producto\"])\n",
        "categoria_mayor2 = max(tienda2[\"Categoría del Producto\"])\n",
        "categoria_mayor3 = max(tienda3[\"Categoría del Producto\"])\n",
        "categoria_mayor4 = max(tienda4[\"Categoría del Producto\"])\n",
        "\n",
        "print(f\"La categoría más popular en la tienda 1 es la de {categoria_mayor}\")\n",
        "print(f\"La categoría más popular en la tienda 2 es la de {categoria_mayor2}\")\n",
        "print(f\"La categoría más popular en la tienda 3 es la de {categoria_mayor3}\")\n",
        "print(f\"La categoría más popular en la tienda 4 es la de {categoria_mayor4}\")"
      ],
      "metadata": {
        "colab": {
          "base_uri": "https://localhost:8080/"
        },
        "id": "nIOhVL4adkcw",
        "outputId": "56ceaf9a-8502-46b6-b60f-6b5535a73def"
      },
      "execution_count": 9,
      "outputs": [
        {
          "output_type": "stream",
          "name": "stdout",
          "text": [
            "La categoría más popular en la tienda 1 es la de Muebles\n",
            "La categoría más popular en la tienda 2 es la de Muebles\n",
            "La categoría más popular en la tienda 3 es la de Muebles\n",
            "La categoría más popular en la tienda 4 es la de Muebles\n"
          ]
        }
      ]
    },
    {
      "cell_type": "markdown",
      "source": [
        "# 3. Calificación promedio de la tienda\n"
      ],
      "metadata": {
        "id": "Rq6tU_xSY3jk"
      }
    },
    {
      "cell_type": "code",
      "source": [
        "promedio = tienda[\"Calificación\"].mean()\n",
        "promedio2 = tienda2[\"Calificación\"].mean()\n",
        "promedio3 = tienda3[\"Calificación\"].mean()\n",
        "promedio4 = tienda4[\"Calificación\"].mean()\n",
        "\n",
        "print(f\"La calificación promedio de la tienda 1 es de {promedio:.2f}\")\n",
        "print(f\"La calificación promedio de la tienda 2 es de {promedio2:.2f}\")\n",
        "print(f\"La calificación promedio de la tienda 3 es de {promedio3:.2f}\")\n",
        "print(f\"La calificación promedio de la tienda 4 es de {promedio4:.2f}\")"
      ],
      "metadata": {
        "id": "bh3jjjJwY5MU",
        "colab": {
          "base_uri": "https://localhost:8080/"
        },
        "outputId": "16e79c69-53bb-414f-b614-3d2944fd807b"
      },
      "execution_count": 11,
      "outputs": [
        {
          "output_type": "stream",
          "name": "stdout",
          "text": [
            "La calificación promedio de la tienda 1 es de 3.98\n",
            "La calificación promedio de la tienda 2 es de 4.04\n",
            "La calificación promedio de la tienda 3 es de 4.05\n",
            "La calificación promedio de la tienda 4 es de 4.00\n"
          ]
        }
      ]
    },
    {
      "cell_type": "markdown",
      "source": [
        "# 4. Productos más y menos vendidos"
      ],
      "metadata": {
        "id": "DmNp1KPBZCm-"
      }
    },
    {
      "cell_type": "code",
      "source": [
        "#En este paso, debes identificar qué productos fueron los más vendidos y los menos vendidos en cada tienda.\n",
        "#Visualiza los resultados para que quede claro qué productos destacaron en ventas en cada tienda.\n",
        "\n",
        "productos = {}\n",
        "\n",
        "for nombre, df in {\"Tienda 1\": tienda, \"Tienda 2\": tienda2, \"Tienda 3\": tienda3, \"Tienda 4\": tienda4}.items():\n",
        "\n",
        "  conteo = df[\"Producto\"].value_counts()\n",
        "\n",
        "  productos[nombre] = conteo\n",
        "\n",
        "ventas_productos = pd.DataFrame({\n",
        "    \"Tienda 1\": ventas_tienda1,\n",
        "    \"Tienda 2\": ventas_tienda2,\n",
        "    \"Tiendas 3\": ventas_tienda3,\n",
        "    \"Tiendas 4\": ventas_tienda4\n",
        "}).fillna(0).astype(int)\n",
        "\n",
        "ventas_tienda1 = tienda[\"Producto\"].value_counts()\n",
        "ventas_tienda2 = tienda2[\"Producto\"].value_counts()\n",
        "ventas_tienda3 = tienda3[\"Producto\"].value_counts()\n",
        "ventas_tienda4 = tienda4[\"Producto\"].value_counts()\n",
        "\n",
        "productos_mas_vendidos1 = ventas_tienda1.sort_values(ascending=False)\n",
        "productos_mas_vendidos2 = ventas_tienda2.sort_values(ascending=False)\n",
        "productos_mas_vendidos3 = ventas_tienda3.sort_values(ascending=False)\n",
        "productos_mas_vendidos4 = ventas_tienda4.sort_values(ascending=False)\n",
        "\n",
        "productos_menos_vendidos1 = ventas_tienda1.sort_values(ascending=True)\n",
        "productos_menos_vendidos2 = ventas_tienda2.sort_values(ascending=True)\n",
        "productos_menos_vendidos3 = ventas_tienda3.sort_values(ascending=True)\n",
        "productos_menos_vendidos4 = ventas_tienda4.sort_values(ascending=True)\n",
        "\n",
        "top_5_productos_mas_vendidos1 = productos_mas_vendidos1.head(5)\n",
        "top_5_productos_mas_vendidos2 = productos_mas_vendidos2.head(5)\n",
        "top_5_productos_mas_vendidos3 = productos_mas_vendidos3.head(5)\n",
        "top_5_productos_mas_vendidos4 = productos_mas_vendidos4.head(5)\n",
        "\n",
        "top_5_productos_menos_vendidos1 = productos_menos_vendidos1.head(5)\n",
        "top_5_productos_menos_vendidos2 = productos_menos_vendidos2.head(5)\n",
        "top_5_productos_menos_vendidos3 = productos_menos_vendidos3.head(5)\n",
        "top_5_productos_menos_vendidos4 = productos_menos_vendidos4.head(5)\n",
        "\n",
        "\n",
        "print(f\"Los productos más vendidos para la tienda 1 son : {top_5_productos_mas_vendidos1}, para la tienda 2 son: {top_5_productos_mas_vendidos2}, para la tienda 3 son: {top_5_productos_mas_vendidos3} y para la tienda 4 son: {top_5_productos_mas_vendidos4}\")\n",
        "print(f\"Los productos menos vendidos para la tienda 1 son: {top_5_productos_menos_vendidos1}, para la tienda 2 son: {top_5_productos_menos_vendidos2}, para la tienda 3 son: {top_5_productos_menos_vendidos3} y para la tienda 4 son: {top_5_productos_menos_vendidos4}\")\n",
        "\n",
        "\n",
        "\n"
      ],
      "metadata": {
        "id": "qoyjqijQZHfF",
        "colab": {
          "base_uri": "https://localhost:8080/"
        },
        "outputId": "b92f3f61-71f7-4889-fa0f-2abb9e8fd58f"
      },
      "execution_count": 15,
      "outputs": [
        {
          "output_type": "stream",
          "name": "stdout",
          "text": [
            "Los productos más vendidos para la tienda 1 son : Producto\n",
            "Microondas          60\n",
            "TV LED UHD 4K       60\n",
            "Armario             60\n",
            "Secadora de ropa    58\n",
            "Mesa de noche       56\n",
            "Name: count, dtype: int64, para la tienda 2 son: Producto\n",
            "Iniciando en programación    65\n",
            "Microondas                   62\n",
            "Batería                      61\n",
            "Guitarra acústica            58\n",
            "Pandereta                    58\n",
            "Name: count, dtype: int64, para la tienda 3 son: Producto\n",
            "Kit de bancas      57\n",
            "Mesa de comedor    56\n",
            "Cama king          56\n",
            "Set de ollas       55\n",
            "Mesa de noche      55\n",
            "Name: count, dtype: int64 y para la tienda 4 son: Producto\n",
            "Cama box                     62\n",
            "Cubertería                   59\n",
            "Dashboards con Power BI      56\n",
            "Cama king                    56\n",
            "Carrito de control remoto    55\n",
            "Name: count, dtype: int64\n",
            "Los productos menos vendidos para la tienda 1 son: Producto\n",
            "Auriculares con micrófono    33\n",
            "Celular ABXY                 33\n",
            "Olla de presión              35\n",
            "Pandereta                    36\n",
            "Mochila                      39\n",
            "Name: count, dtype: int64, para la tienda 2 son: Producto\n",
            "Juego de mesa      32\n",
            "Mesa de comedor    34\n",
            "Impresora          34\n",
            "Sillón             35\n",
            "Auriculares        37\n",
            "Name: count, dtype: int64, para la tienda 3 son: Producto\n",
            "Bloques de construcción    35\n",
            "Microondas                 36\n",
            "Set de vasos               36\n",
            "Mochila                    36\n",
            "Vaso térmico               38\n",
            "Name: count, dtype: int64 y para la tienda 4 son: Producto\n",
            "Guitarra eléctrica             33\n",
            "Armario                        34\n",
            "Guitarra acústica              37\n",
            "Ciencia de datos con Python    38\n",
            "Lavadora de ropa               38\n",
            "Name: count, dtype: int64\n"
          ]
        }
      ]
    },
    {
      "cell_type": "code",
      "source": [],
      "metadata": {
        "id": "0Sw3sd4IZIGW"
      },
      "execution_count": null,
      "outputs": []
    },
    {
      "cell_type": "markdown",
      "source": [
        "# 5. Envío promedio por tienda"
      ],
      "metadata": {
        "id": "Fl0cGi3bZKqU"
      }
    },
    {
      "cell_type": "code",
      "source": [
        "#Realizar el costo de envio promedio para cada tienda\n",
        "\n",
        "# la columna se llama Costo de envío\n",
        "\n",
        "costo_envio_promedio1 = tienda[\"Costo de envío\"].mean()\n",
        "costo_envio_promedio2 = tienda2[\"Costo de envío\"].mean()\n",
        "costo_envio_promedio3 = tienda3[\"Costo de envío\"].mean()\n",
        "costo_envio_promedio4 = tienda4[\"Costo de envío\"].mean()\n",
        "\n",
        "print(f\"La costo promedio de envío de la tienda 1 es de: $ {costo_envio_promedio1:,.2f}\")\n",
        "print(f\"La costo promedio de envío de la tienda 2 es de: $ {costo_envio_promedio2:,.2f}\")\n",
        "print(f\"La costo promedio de envío de la tienda 3 es de: $ {costo_envio_promedio3:,.2f}\")\n",
        "print(f\"La costo promedio de envío de la tienda 4 es de: $ {costo_envio_promedio4:,.2f}\")"
      ],
      "metadata": {
        "id": "S2JeaCykZNy9",
        "colab": {
          "base_uri": "https://localhost:8080/"
        },
        "outputId": "11e93fad-ee5f-4b0c-b1e8-28d82e564bd1"
      },
      "execution_count": 16,
      "outputs": [
        {
          "output_type": "stream",
          "name": "stdout",
          "text": [
            "La costo promedio de envío de la tienda 1 es de: $ 26,018.61\n",
            "La costo promedio de envío de la tienda 2 es de: $ 25,216.24\n",
            "La costo promedio de envío de la tienda 3 es de: $ 24,805.68\n",
            "La costo promedio de envío de la tienda 4 es de: $ 23,459.46\n"
          ]
        }
      ]
    },
    {
      "cell_type": "markdown",
      "source": [
        ">># **Informa para toma de decisiones.**"
      ],
      "metadata": {
        "id": "fLE97RABwkKT"
      }
    },
    {
      "cell_type": "markdown",
      "source": [
        "Este analisis se realiza según la petición del señor Juan para poder tomar la decisión de cual de las cuatro tiendas debe vender, se acuerdo a sus rendimientos. Con este motivo en mente se crearon diferentes analisis para facilitar la decisión del señor Juan las cuales las podemos ver a continuación:"
      ],
      "metadata": {
        "id": "VkHsX52VyQ8I"
      }
    },
    {
      "cell_type": "markdown",
      "source": [
        "\n",
        "\n",
        "1.   Ingresos Totales de cada tienda\n",
        "2.   Categorías de productos más vendidas en cada tienda\n",
        "3.   Calificaciones promedio que brindo cada cliente\n",
        "4.   Productos más y menos vendidos en cada tienda\n",
        "5.   El costo de envío que genera cada tienda\n",
        "\n"
      ],
      "metadata": {
        "id": "IaC09l45y0rH"
      }
    },
    {
      "cell_type": "markdown",
      "source": [
        "##Ingresos Totales"
      ],
      "metadata": {
        "id": "CaigRR9DzUlT"
      }
    },
    {
      "cell_type": "markdown",
      "source": [
        "Según lo analizado podemos observar que la tienda 1 es la que genera mayor ingresos, esto hace que lidere en este rugro, así como se puede observar en la gráfica:"
      ],
      "metadata": {
        "id": "ict1sbmEzgaz"
      }
    },
    {
      "cell_type": "code",
      "source": [
        "fig, ax = plt.subplots()\n",
        "tiendas = [\"Tienda 1\", \"Tienda 2\", \"Tienda 3\", \"Tienda 4\"]\n",
        "ingresos = [1150880400, 1116343500, 1098019600, 1038375700]\n",
        "ax.bar(tiendas, ingresos, color=[mcolors.to_rgba(\"darkgreen\"), mcolors.to_rgba(\"lime\"), mcolors.to_rgba(\"lime\"), mcolors.to_rgba(\"lime\")])\n",
        "ax.set_title('Ingreso de Ventas Totales por Tienda', loc = \"left\", fontdict = {'fontsize':20, 'fontweight':'bold', 'color':'#00CED1'})\n",
        "i = 0.5\n",
        "j = 1000\n",
        "for i in range(len(tiendas)):\n",
        "    plt.annotate(ingresos[i], (-0.4 + i, ingresos[i] + j))\n",
        "plt.show()\n"
      ],
      "metadata": {
        "colab": {
          "base_uri": "https://localhost:8080/",
          "height": 475
        },
        "id": "ZG05m-AHkjSv",
        "outputId": "294a7f9c-2186-4e83-8eef-e80975013a6e"
      },
      "execution_count": 17,
      "outputs": [
        {
          "output_type": "display_data",
          "data": {
            "text/plain": [
              "<Figure size 640x480 with 1 Axes>"
            ],
            "image/png": "[encoded data removed]"
          },
          "metadata": {}
        }
      ]
    },
    {
      "cell_type": "markdown",
      "source": [
        "##Productos más vendidos por categoría"
      ],
      "metadata": {
        "id": "xzlOmcvrz-Pb"
      }
    },
    {
      "cell_type": "markdown",
      "source": [
        "En cuanto a los productos más vendidos por categoría destaca la tienda 3, vendido 499 muebles, mucho más que las otras tiendas. Como se puede observar a continuación.\n",
        "\n",
        "Categoría de producto | Tienda 1 | Tienda 2 | Tienda 3 | Tienda 4\n",
        "----------------------|----------|----------|----------|----------\n",
        "Muebles               |   465    |   442    |   499    |   480\n",
        "Electrónicos          |   448    |   422    |   451    |   451\n",
        "Juguetes              |   324    |   313    |   315    |   338\n",
        "Electrodomésticos     |   312    |   305    |   278    |   254\n",
        "Deportes y diversión  |   284    |   275    |   277    |   277\n",
        "Instrumentos musicales|   182    |   224    |   177    |   170\n",
        "Libros                |   173    |   197    |   185    |   187\n",
        "Artículos para hogar  |   171    |   181    |   177    |   201\n"
      ],
      "metadata": {
        "id": "sQTIanD03RpI"
      }
    },
    {
      "cell_type": "code",
      "source": [
        "fig, ax = plt.subplots()\n",
        "tiendas = [\"Tienda 1\", \"Tienda 2\", \"Tienda 3\", \"Tienda 4\"]\n",
        "muebles = [465, 442, 499, 480]\n",
        "ax.bar(tiendas, muebles, color=[mcolors.to_rgba(\"#87CEEB\"), mcolors.to_rgba(\"#87CEEB\"), mcolors.to_rgba(\"#000080\"), mcolors.to_rgba(\"#87CEEB\")])\n",
        "ax.set_title('Categoría con mayor ventas', loc = \"left\", fontdict = {'fontsize':20, 'fontweight':'bold', 'color':'#7f7f7f'})\n",
        "i = 0.5\n",
        "j = 1000\n",
        "for i in range(len(tiendas)):\n",
        "    plt.annotate(muebles[i], (-0.1 + i, muebles[i] + j))\n",
        "plt.show()"
      ],
      "metadata": {
        "colab": {
          "base_uri": "https://localhost:8080/",
          "height": 461
        },
        "id": "ldpkN13Dy80H",
        "outputId": "de06f99a-d584-4980-f6be-95c6c0a5402b"
      },
      "execution_count": 10,
      "outputs": [
        {
          "output_type": "display_data",
          "data": {
            "text/plain": [
              "<Figure size 640x480 with 1 Axes>"
            ],
            "image/png": "[encoded data removed]"
          },
          "metadata": {}
        }
      ]
    },
    {
      "cell_type": "markdown",
      "source": [
        "##Calificación promedio de cada tienda"
      ],
      "metadata": {
        "id": "8mt7A8SyCm6f"
      }
    },
    {
      "cell_type": "markdown",
      "source": [
        "Con respeto a la calificación promedio dada por los cliente para cada tienda descata la tienda 3, esto la hace tener una mejor atención al cliente.\n",
        "\n",
        "La calificación promedio de la tienda 1 es de 3.98\n",
        "\n",
        "La calificación promedio de la tienda 2 es de 4.04\n",
        "\n",
        "La calificación promedio de la tienda 3 es de 4.05\n",
        "\n",
        "La calificación promedio de la tienda 4 es de 4.00\n",
        "\n",
        "Podemos observarlo en el gráfico a continuación:"
      ],
      "metadata": {
        "id": "m0FIhfCFC4z7"
      }
    },
    {
      "cell_type": "code",
      "source": [
        "fig, ax = plt.subplots()\n",
        "#datos del gráfico\n",
        "labels= [\"Tienda 1\", \"Tienda 2\", \"Tienda 3\", \"Tienda 4\"]\n",
        "sizes = [3.98, 4.04, 4.05, 4.00 ]\n",
        "\n",
        "#lista de colores\n",
        "colors = [\"#F0FFF0\",\"#FFB6C1\",\"#FF1493\",\"#FFF0F5\" ]\n",
        "\n",
        "#creación del gráfico\n",
        "plt.pie(sizes, labels=labels, colors= colors, autopct=\"%1.2f%%\")\n",
        "\n",
        "plt.show()"
      ],
      "metadata": {
        "colab": {
          "base_uri": "https://localhost:8080/",
          "height": 406
        },
        "id": "opqjG6VGEHKc",
        "outputId": "82a202fd-d5f8-43ca-a0b7-6178e46e12fa"
      },
      "execution_count": 12,
      "outputs": [
        {
          "output_type": "display_data",
          "data": {
            "text/plain": [
              "<Figure size 640x480 with 1 Axes>"
            ],
            "image/png": "[encoded data removed]"
          },
          "metadata": {}
        }
      ]
    },
    {
      "cell_type": "markdown",
      "source": [
        "## Productos más y menos vendidos por cada tienda"
      ],
      "metadata": {
        "id": "lAIUN92A7SqU"
      }
    },
    {
      "cell_type": "markdown",
      "source": [
        "En este rugro podemos observar que la tienda 2 es la que se destaca en los productos más vendidos. Como se observa a continuación:\n",
        "\n",
        "Productos más vendidos     | Tienda 1 | Tienda 2 | Tienda 3 | Tienda 4\n",
        "---------------------------|----------|----------|----------|----------\n",
        "Microondas                 |    60    |    62    |          |              \n",
        "TV LED UHD 4K              |    60    |          |          |\n",
        "Armario                    |    60    |          |          |\n",
        "Secadora de ropa           |    58    |          |          |\n",
        "Mesa de noche              |    56    |          |    55    |\n",
        "Iniciando en programación  |          |    65    |          |\n",
        "Batería                    |          |    61    |          |\n",
        "Guitarra acústica          |          |    58    |          |\n",
        "Pandereta                  |          |    58    |          |\n",
        "Kit de bancas              |          |          |    57    |\n",
        "Mesa de comedor            |          |          |    56    |\n",
        "Cama king                  |          |          |    56    |    56\n",
        "Set de ollas               |          |          |    55    |\n",
        "Cama box                   |          |          |          |    62    \n",
        "Cubertería                 |          |          |          |    59    \n",
        "Dashboards con Power BI    |          |          |          |    56    \n",
        "Carrito de control remoto  |          |          |          |    55    \n",
        "Total                      |   294    |   304    |   279    |   288"
      ],
      "metadata": {
        "id": "xy1ZoQai7deC"
      }
    },
    {
      "cell_type": "markdown",
      "source": [
        "En este rugro podemos observar que la tienda 2 es la que se tiene menos productos vendidos. Como se observa a continuación:\n",
        "\n",
        "Productos menos vendidos   | Tienda 1 | Tienda 2 |Tienda 3 | Tienda 4\n",
        "---------------------------|----------|----------|---------|-----------\n",
        "Auriculares con micrófono  |    33    |          |         |\n",
        "Celular ABXY               |    33    |          |         |\n",
        "Olla de presión            |    35    |          |         |\n",
        "Pandereta                  |    36    |          |         |\n",
        "Mochila                    |    39    |          |         |\n",
        "Juego de mesa              |          |    32    |         |\n",
        "Mesa de comedor            |          |    34    |         |\n",
        "Impresora                  |          |    34    |         |\n",
        "Sillón                     |          |    35    |         |\n",
        "Auriculares                |          |    37    |         |\n",
        "Bloques de construcción    |          |          |    35   |\n",
        "Microondas                 |          |          |    36   |\n",
        "Set de vasos               |          |          |    36   |\n",
        "Mochila                    |          |          |    36   |\n",
        "Vaso térmico               |          |          |    38   |\n",
        "Guitarra eléctrica         |          |          |         |    33    \n",
        "Armario                    |          |          |         |    34    \n",
        "Guitarra acústica          |          |          |         |    37    \n",
        "Ciencia de datos con Python|          |          |         |    38    \n",
        "Lavadora de ropa           |          |          |         |    38    \n",
        "Total                      |   176    |   172    |   181   |   180"
      ],
      "metadata": {
        "id": "ZXUNca5d_JUa"
      }
    },
    {
      "cell_type": "markdown",
      "source": [
        "##Costo de envío promedio"
      ],
      "metadata": {
        "id": "PP5rBGkJDn8q"
      }
    },
    {
      "cell_type": "markdown",
      "source": [
        "Conforme la información brindada se pudo detectar que la tienda con menor costo de envio es la tienda 4, esto la hace más eficiente en cuanto a llevar sus gastos al minimo, sin embargo también se da porque es la tienda con las ventas más bajas.\n",
        "\n",
        "Como se puede observar a continuación:\n",
        "\n",
        "La costo promedio de envío de la tienda 1 es de: $ 26,018.61\n",
        "\n",
        "La costo promedio de envío de la tienda 2 es de: $ 25,216.24\n",
        "\n",
        "La costo promedio de envío de la tienda 3 es de: $ 24,805.68\n",
        "\n",
        "La costo promedio de envío de la tienda 4 es de: $ 23,459.46"
      ],
      "metadata": {
        "id": "VMn59-2qD1zg"
      }
    },
    {
      "cell_type": "markdown",
      "source": [
        "##Conclusión"
      ],
      "metadata": {
        "id": "-pwBLBQoEejo"
      }
    },
    {
      "cell_type": "markdown",
      "source": [
        "Dados los resultados generados de cada una de las tiendas se recomienda que el señor Juan debe realizar la venta de la tienda 1, a pesar que es la que posee el mayor ingreso de ventas con $ 1,150,880,400.00, pero en los otros analisis no es la más eficiente y efectiva utilizando sus recurso.\n",
        "Adicional es la tienda que tiene la calificación de satisfacción de los clientes más baja, lo cual puede generar molestias y provocar una mala imagen de la cadena de tiendas en los clientes, sabiendo que la mejor publicidad es la que se brinda con un buen servicio."
      ],
      "metadata": {
        "id": "RezUoXz-EhSP"
      }
    },
    {
      "cell_type": "code",
      "source": [
        "from google.colab import drive\n",
        "drive.mount('/content/drive')"
      ],
      "metadata": {
        "colab": {
          "base_uri": "https://localhost:8080/"
        },
        "id": "SQC_riKRJwcA",
        "outputId": "932a4b02-34a2-4c82-9598-9d1e5cf77f66"
      },
      "execution_count": 19,
      "outputs": [
        {
          "output_type": "stream",
          "name": "stdout",
          "text": [
            "Mounted at /content/drive\n"
          ]
        }
      ]
    }
  ]
}